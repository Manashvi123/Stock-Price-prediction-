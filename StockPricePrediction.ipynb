{
  "nbformat": 4,
  "nbformat_minor": 0,
  "metadata": {
    "colab": {
      "name": "StockPricePrediction.ipynb",
      "provenance": [],
      "authorship_tag": "ABX9TyP+wYgYGMjj+x+uuVqJU1u/",
      "include_colab_link": true
    },
    "kernelspec": {
      "name": "python3",
      "display_name": "Python 3"
    },
    "language_info": {
      "name": "python"
    }
  },
  "cells": [
    {
      "cell_type": "markdown",
      "metadata": {
        "id": "view-in-github",
        "colab_type": "text"
      },
      "source": [
        "<a href=\"https://colab.research.google.com/github/Manashvi123/Stock-Price-prediction-/blob/main/StockPricePrediction.ipynb\" target=\"_parent\"><img src=\"https://colab.research.google.com/assets/colab-badge.svg\" alt=\"Open In Colab\"/></a>"
      ]
    },
    {
      "cell_type": "code",
      "execution_count": 1,
      "metadata": {
        "id": "CT67TGrPgVVZ"
      },
      "outputs": [],
      "source": [
        "import numpy as np\n",
        "import pandas as pd\n",
        "import matplotlib.pyplot as plt\n",
        "import seaborn as sns\n",
        "from sklearn.model_selection import train_test_split\n",
        "from sklearn.ensemble import RandomForestRegressor\n",
        "from sklearn import metrics"
      ]
    },
    {
      "cell_type": "code",
      "source": [
        "us_data=pd.read_csv('/content/-last-ten-years.csv')"
      ],
      "metadata": {
        "id": "2BYzGKP2gpjq"
      },
      "execution_count": 5,
      "outputs": []
    },
    {
      "cell_type": "code",
      "source": [
        "us_data.head()"
      ],
      "metadata": {
        "colab": {
          "base_uri": "https://localhost:8080/",
          "height": 206
        },
        "id": "cWpNOAoNwwDh",
        "outputId": "9d311fcf-631e-49b4-fd1b-9dd44cf1afc6"
      },
      "execution_count": 6,
      "outputs": [
        {
          "output_type": "execute_result",
          "data": {
            "text/plain": [
              "         date  gold value   crude oil value  Natural gas value  S&P500 value\n",
              "0  24-07-2012     1573.00             88.28               3.16       1338.31\n",
              "1  25-07-2012     1587.50             88.80               3.19       1337.89\n",
              "2  26-07-2012     1603.00             89.40               3.13       1360.02\n",
              "3  27-07-2012     1618.75             90.13               3.10       1385.97\n",
              "4  30-07-2012     1616.50             89.80               3.14       1385.30"
            ],
            "text/html": [
              "\n",
              "  <div id=\"df-a09a933b-df7d-49c1-a765-a2bdaf7266fe\">\n",
              "    <div class=\"colab-df-container\">\n",
              "      <div>\n",
              "<style scoped>\n",
              "    .dataframe tbody tr th:only-of-type {\n",
              "        vertical-align: middle;\n",
              "    }\n",
              "\n",
              "    .dataframe tbody tr th {\n",
              "        vertical-align: top;\n",
              "    }\n",
              "\n",
              "    .dataframe thead th {\n",
              "        text-align: right;\n",
              "    }\n",
              "</style>\n",
              "<table border=\"1\" class=\"dataframe\">\n",
              "  <thead>\n",
              "    <tr style=\"text-align: right;\">\n",
              "      <th></th>\n",
              "      <th>date</th>\n",
              "      <th>gold value</th>\n",
              "      <th>crude oil value</th>\n",
              "      <th>Natural gas value</th>\n",
              "      <th>S&amp;P500 value</th>\n",
              "    </tr>\n",
              "  </thead>\n",
              "  <tbody>\n",
              "    <tr>\n",
              "      <th>0</th>\n",
              "      <td>24-07-2012</td>\n",
              "      <td>1573.00</td>\n",
              "      <td>88.28</td>\n",
              "      <td>3.16</td>\n",
              "      <td>1338.31</td>\n",
              "    </tr>\n",
              "    <tr>\n",
              "      <th>1</th>\n",
              "      <td>25-07-2012</td>\n",
              "      <td>1587.50</td>\n",
              "      <td>88.80</td>\n",
              "      <td>3.19</td>\n",
              "      <td>1337.89</td>\n",
              "    </tr>\n",
              "    <tr>\n",
              "      <th>2</th>\n",
              "      <td>26-07-2012</td>\n",
              "      <td>1603.00</td>\n",
              "      <td>89.40</td>\n",
              "      <td>3.13</td>\n",
              "      <td>1360.02</td>\n",
              "    </tr>\n",
              "    <tr>\n",
              "      <th>3</th>\n",
              "      <td>27-07-2012</td>\n",
              "      <td>1618.75</td>\n",
              "      <td>90.13</td>\n",
              "      <td>3.10</td>\n",
              "      <td>1385.97</td>\n",
              "    </tr>\n",
              "    <tr>\n",
              "      <th>4</th>\n",
              "      <td>30-07-2012</td>\n",
              "      <td>1616.50</td>\n",
              "      <td>89.80</td>\n",
              "      <td>3.14</td>\n",
              "      <td>1385.30</td>\n",
              "    </tr>\n",
              "  </tbody>\n",
              "</table>\n",
              "</div>\n",
              "      <button class=\"colab-df-convert\" onclick=\"convertToInteractive('df-a09a933b-df7d-49c1-a765-a2bdaf7266fe')\"\n",
              "              title=\"Convert this dataframe to an interactive table.\"\n",
              "              style=\"display:none;\">\n",
              "        \n",
              "  <svg xmlns=\"http://www.w3.org/2000/svg\" height=\"24px\"viewBox=\"0 0 24 24\"\n",
              "       width=\"24px\">\n",
              "    <path d=\"M0 0h24v24H0V0z\" fill=\"none\"/>\n",
              "    <path d=\"M18.56 5.44l.94 2.06.94-2.06 2.06-.94-2.06-.94-.94-2.06-.94 2.06-2.06.94zm-11 1L8.5 8.5l.94-2.06 2.06-.94-2.06-.94L8.5 2.5l-.94 2.06-2.06.94zm10 10l.94 2.06.94-2.06 2.06-.94-2.06-.94-.94-2.06-.94 2.06-2.06.94z\"/><path d=\"M17.41 7.96l-1.37-1.37c-.4-.4-.92-.59-1.43-.59-.52 0-1.04.2-1.43.59L10.3 9.45l-7.72 7.72c-.78.78-.78 2.05 0 2.83L4 21.41c.39.39.9.59 1.41.59.51 0 1.02-.2 1.41-.59l7.78-7.78 2.81-2.81c.8-.78.8-2.07 0-2.86zM5.41 20L4 18.59l7.72-7.72 1.47 1.35L5.41 20z\"/>\n",
              "  </svg>\n",
              "      </button>\n",
              "      \n",
              "  <style>\n",
              "    .colab-df-container {\n",
              "      display:flex;\n",
              "      flex-wrap:wrap;\n",
              "      gap: 12px;\n",
              "    }\n",
              "\n",
              "    .colab-df-convert {\n",
              "      background-color: #E8F0FE;\n",
              "      border: none;\n",
              "      border-radius: 50%;\n",
              "      cursor: pointer;\n",
              "      display: none;\n",
              "      fill: #1967D2;\n",
              "      height: 32px;\n",
              "      padding: 0 0 0 0;\n",
              "      width: 32px;\n",
              "    }\n",
              "\n",
              "    .colab-df-convert:hover {\n",
              "      background-color: #E2EBFA;\n",
              "      box-shadow: 0px 1px 2px rgba(60, 64, 67, 0.3), 0px 1px 3px 1px rgba(60, 64, 67, 0.15);\n",
              "      fill: #174EA6;\n",
              "    }\n",
              "\n",
              "    [theme=dark] .colab-df-convert {\n",
              "      background-color: #3B4455;\n",
              "      fill: #D2E3FC;\n",
              "    }\n",
              "\n",
              "    [theme=dark] .colab-df-convert:hover {\n",
              "      background-color: #434B5C;\n",
              "      box-shadow: 0px 1px 3px 1px rgba(0, 0, 0, 0.15);\n",
              "      filter: drop-shadow(0px 1px 2px rgba(0, 0, 0, 0.3));\n",
              "      fill: #FFFFFF;\n",
              "    }\n",
              "  </style>\n",
              "\n",
              "      <script>\n",
              "        const buttonEl =\n",
              "          document.querySelector('#df-a09a933b-df7d-49c1-a765-a2bdaf7266fe button.colab-df-convert');\n",
              "        buttonEl.style.display =\n",
              "          google.colab.kernel.accessAllowed ? 'block' : 'none';\n",
              "\n",
              "        async function convertToInteractive(key) {\n",
              "          const element = document.querySelector('#df-a09a933b-df7d-49c1-a765-a2bdaf7266fe');\n",
              "          const dataTable =\n",
              "            await google.colab.kernel.invokeFunction('convertToInteractive',\n",
              "                                                     [key], {});\n",
              "          if (!dataTable) return;\n",
              "\n",
              "          const docLinkHtml = 'Like what you see? Visit the ' +\n",
              "            '<a target=\"_blank\" href=https://colab.research.google.com/notebooks/data_table.ipynb>data table notebook</a>'\n",
              "            + ' to learn more about interactive tables.';\n",
              "          element.innerHTML = '';\n",
              "          dataTable['output_type'] = 'display_data';\n",
              "          await google.colab.output.renderOutput(dataTable, element);\n",
              "          const docLink = document.createElement('div');\n",
              "          docLink.innerHTML = docLinkHtml;\n",
              "          element.appendChild(docLink);\n",
              "        }\n",
              "      </script>\n",
              "    </div>\n",
              "  </div>\n",
              "  "
            ]
          },
          "metadata": {},
          "execution_count": 6
        }
      ]
    },
    {
      "cell_type": "code",
      "source": [
        "us_data.tail()"
      ],
      "metadata": {
        "colab": {
          "base_uri": "https://localhost:8080/",
          "height": 206
        },
        "id": "-_BDVXDLw2jx",
        "outputId": "b4bb4c72-f8ae-40b7-826b-9ecc0bca044d"
      },
      "execution_count": 7,
      "outputs": [
        {
          "output_type": "execute_result",
          "data": {
            "text/plain": [
              "            date  gold value   crude oil value  Natural gas value  \\\n",
              "2509  31-05-2022     1847.26          101.0279               7.68   \n",
              "2510  01-06-2022     1848.70           98.2402               7.72   \n",
              "2511  02-06-2022     1871.40          102.4885               7.88   \n",
              "2512  03-06-2022     1850.20          104.7900               7.37   \n",
              "2513  06-06-2022     1843.70          104.7900               6.60   \n",
              "\n",
              "      S&P500 value  \n",
              "2509       3818.80  \n",
              "2510       3801.78  \n",
              "2511       3790.38  \n",
              "2512       3863.16  \n",
              "2513       3830.85  "
            ],
            "text/html": [
              "\n",
              "  <div id=\"df-b3d93e77-fb10-4a94-9033-05eba396e463\">\n",
              "    <div class=\"colab-df-container\">\n",
              "      <div>\n",
              "<style scoped>\n",
              "    .dataframe tbody tr th:only-of-type {\n",
              "        vertical-align: middle;\n",
              "    }\n",
              "\n",
              "    .dataframe tbody tr th {\n",
              "        vertical-align: top;\n",
              "    }\n",
              "\n",
              "    .dataframe thead th {\n",
              "        text-align: right;\n",
              "    }\n",
              "</style>\n",
              "<table border=\"1\" class=\"dataframe\">\n",
              "  <thead>\n",
              "    <tr style=\"text-align: right;\">\n",
              "      <th></th>\n",
              "      <th>date</th>\n",
              "      <th>gold value</th>\n",
              "      <th>crude oil value</th>\n",
              "      <th>Natural gas value</th>\n",
              "      <th>S&amp;P500 value</th>\n",
              "    </tr>\n",
              "  </thead>\n",
              "  <tbody>\n",
              "    <tr>\n",
              "      <th>2509</th>\n",
              "      <td>31-05-2022</td>\n",
              "      <td>1847.26</td>\n",
              "      <td>101.0279</td>\n",
              "      <td>7.68</td>\n",
              "      <td>3818.80</td>\n",
              "    </tr>\n",
              "    <tr>\n",
              "      <th>2510</th>\n",
              "      <td>01-06-2022</td>\n",
              "      <td>1848.70</td>\n",
              "      <td>98.2402</td>\n",
              "      <td>7.72</td>\n",
              "      <td>3801.78</td>\n",
              "    </tr>\n",
              "    <tr>\n",
              "      <th>2511</th>\n",
              "      <td>02-06-2022</td>\n",
              "      <td>1871.40</td>\n",
              "      <td>102.4885</td>\n",
              "      <td>7.88</td>\n",
              "      <td>3790.38</td>\n",
              "    </tr>\n",
              "    <tr>\n",
              "      <th>2512</th>\n",
              "      <td>03-06-2022</td>\n",
              "      <td>1850.20</td>\n",
              "      <td>104.7900</td>\n",
              "      <td>7.37</td>\n",
              "      <td>3863.16</td>\n",
              "    </tr>\n",
              "    <tr>\n",
              "      <th>2513</th>\n",
              "      <td>06-06-2022</td>\n",
              "      <td>1843.70</td>\n",
              "      <td>104.7900</td>\n",
              "      <td>6.60</td>\n",
              "      <td>3830.85</td>\n",
              "    </tr>\n",
              "  </tbody>\n",
              "</table>\n",
              "</div>\n",
              "      <button class=\"colab-df-convert\" onclick=\"convertToInteractive('df-b3d93e77-fb10-4a94-9033-05eba396e463')\"\n",
              "              title=\"Convert this dataframe to an interactive table.\"\n",
              "              style=\"display:none;\">\n",
              "        \n",
              "  <svg xmlns=\"http://www.w3.org/2000/svg\" height=\"24px\"viewBox=\"0 0 24 24\"\n",
              "       width=\"24px\">\n",
              "    <path d=\"M0 0h24v24H0V0z\" fill=\"none\"/>\n",
              "    <path d=\"M18.56 5.44l.94 2.06.94-2.06 2.06-.94-2.06-.94-.94-2.06-.94 2.06-2.06.94zm-11 1L8.5 8.5l.94-2.06 2.06-.94-2.06-.94L8.5 2.5l-.94 2.06-2.06.94zm10 10l.94 2.06.94-2.06 2.06-.94-2.06-.94-.94-2.06-.94 2.06-2.06.94z\"/><path d=\"M17.41 7.96l-1.37-1.37c-.4-.4-.92-.59-1.43-.59-.52 0-1.04.2-1.43.59L10.3 9.45l-7.72 7.72c-.78.78-.78 2.05 0 2.83L4 21.41c.39.39.9.59 1.41.59.51 0 1.02-.2 1.41-.59l7.78-7.78 2.81-2.81c.8-.78.8-2.07 0-2.86zM5.41 20L4 18.59l7.72-7.72 1.47 1.35L5.41 20z\"/>\n",
              "  </svg>\n",
              "      </button>\n",
              "      \n",
              "  <style>\n",
              "    .colab-df-container {\n",
              "      display:flex;\n",
              "      flex-wrap:wrap;\n",
              "      gap: 12px;\n",
              "    }\n",
              "\n",
              "    .colab-df-convert {\n",
              "      background-color: #E8F0FE;\n",
              "      border: none;\n",
              "      border-radius: 50%;\n",
              "      cursor: pointer;\n",
              "      display: none;\n",
              "      fill: #1967D2;\n",
              "      height: 32px;\n",
              "      padding: 0 0 0 0;\n",
              "      width: 32px;\n",
              "    }\n",
              "\n",
              "    .colab-df-convert:hover {\n",
              "      background-color: #E2EBFA;\n",
              "      box-shadow: 0px 1px 2px rgba(60, 64, 67, 0.3), 0px 1px 3px 1px rgba(60, 64, 67, 0.15);\n",
              "      fill: #174EA6;\n",
              "    }\n",
              "\n",
              "    [theme=dark] .colab-df-convert {\n",
              "      background-color: #3B4455;\n",
              "      fill: #D2E3FC;\n",
              "    }\n",
              "\n",
              "    [theme=dark] .colab-df-convert:hover {\n",
              "      background-color: #434B5C;\n",
              "      box-shadow: 0px 1px 3px 1px rgba(0, 0, 0, 0.15);\n",
              "      filter: drop-shadow(0px 1px 2px rgba(0, 0, 0, 0.3));\n",
              "      fill: #FFFFFF;\n",
              "    }\n",
              "  </style>\n",
              "\n",
              "      <script>\n",
              "        const buttonEl =\n",
              "          document.querySelector('#df-b3d93e77-fb10-4a94-9033-05eba396e463 button.colab-df-convert');\n",
              "        buttonEl.style.display =\n",
              "          google.colab.kernel.accessAllowed ? 'block' : 'none';\n",
              "\n",
              "        async function convertToInteractive(key) {\n",
              "          const element = document.querySelector('#df-b3d93e77-fb10-4a94-9033-05eba396e463');\n",
              "          const dataTable =\n",
              "            await google.colab.kernel.invokeFunction('convertToInteractive',\n",
              "                                                     [key], {});\n",
              "          if (!dataTable) return;\n",
              "\n",
              "          const docLinkHtml = 'Like what you see? Visit the ' +\n",
              "            '<a target=\"_blank\" href=https://colab.research.google.com/notebooks/data_table.ipynb>data table notebook</a>'\n",
              "            + ' to learn more about interactive tables.';\n",
              "          element.innerHTML = '';\n",
              "          dataTable['output_type'] = 'display_data';\n",
              "          await google.colab.output.renderOutput(dataTable, element);\n",
              "          const docLink = document.createElement('div');\n",
              "          docLink.innerHTML = docLinkHtml;\n",
              "          element.appendChild(docLink);\n",
              "        }\n",
              "      </script>\n",
              "    </div>\n",
              "  </div>\n",
              "  "
            ]
          },
          "metadata": {},
          "execution_count": 7
        }
      ]
    },
    {
      "cell_type": "code",
      "source": [
        "us_data.shape"
      ],
      "metadata": {
        "colab": {
          "base_uri": "https://localhost:8080/"
        },
        "id": "MVKJeMP_xZkr",
        "outputId": "0b56cd99-d551-4821-d9c2-553c8419fb50"
      },
      "execution_count": 9,
      "outputs": [
        {
          "output_type": "execute_result",
          "data": {
            "text/plain": [
              "(2514, 5)"
            ]
          },
          "metadata": {},
          "execution_count": 9
        }
      ]
    },
    {
      "cell_type": "code",
      "source": [
        "us_data.info()"
      ],
      "metadata": {
        "colab": {
          "base_uri": "https://localhost:8080/"
        },
        "id": "DWia4Lo2xdO_",
        "outputId": "d70d0d4f-f188-4611-d683-a86a66824af2"
      },
      "execution_count": 10,
      "outputs": [
        {
          "output_type": "stream",
          "name": "stdout",
          "text": [
            "<class 'pandas.core.frame.DataFrame'>\n",
            "RangeIndex: 2514 entries, 0 to 2513\n",
            "Data columns (total 5 columns):\n",
            " #   Column             Non-Null Count  Dtype  \n",
            "---  ------             --------------  -----  \n",
            " 0   date               2514 non-null   object \n",
            " 1   gold value         2514 non-null   float64\n",
            " 2    crude oil value   2514 non-null   float64\n",
            " 3   Natural gas value  2514 non-null   float64\n",
            " 4   S&P500 value       2514 non-null   float64\n",
            "dtypes: float64(4), object(1)\n",
            "memory usage: 98.3+ KB\n"
          ]
        }
      ]
    },
    {
      "cell_type": "code",
      "source": [
        "us_data.isnull().sum()"
      ],
      "metadata": {
        "colab": {
          "base_uri": "https://localhost:8080/"
        },
        "id": "neGdYIwKxjWo",
        "outputId": "94ff3cd8-dc59-48ad-cfef-b5b6875d3727"
      },
      "execution_count": 11,
      "outputs": [
        {
          "output_type": "execute_result",
          "data": {
            "text/plain": [
              "date                 0\n",
              "gold value           0\n",
              " crude oil value     0\n",
              "Natural gas value    0\n",
              "S&P500 value         0\n",
              "dtype: int64"
            ]
          },
          "metadata": {},
          "execution_count": 11
        }
      ]
    },
    {
      "cell_type": "code",
      "source": [
        "us_data.describe()"
      ],
      "metadata": {
        "colab": {
          "base_uri": "https://localhost:8080/",
          "height": 300
        },
        "id": "I2qJHKBZxqeP",
        "outputId": "34809ea5-74e3-4119-a52b-62f76532fbe8"
      },
      "execution_count": 12,
      "outputs": [
        {
          "output_type": "execute_result",
          "data": {
            "text/plain": [
              "        gold value   crude oil value  Natural gas value  S&P500 value\n",
              "count  2514.000000       2514.000000        2514.000000   2514.000000\n",
              "mean   1432.092267         66.059444           3.233214   2629.116714\n",
              "std     253.660278         22.779770           1.215478    873.343077\n",
              "min    1049.600000         11.258000           1.330000   1337.890000\n",
              "25%    1241.987500         48.490000           2.610000   1990.787500\n",
              "50%    1316.025000         59.715000           2.950000   2438.635000\n",
              "75%    1682.137500         88.275000           3.700000   3014.167500\n",
              "max    2058.400000        123.700000          23.860000   4796.560000"
            ],
            "text/html": [
              "\n",
              "  <div id=\"df-6b0d0b9d-7004-4582-b514-cb277f88f721\">\n",
              "    <div class=\"colab-df-container\">\n",
              "      <div>\n",
              "<style scoped>\n",
              "    .dataframe tbody tr th:only-of-type {\n",
              "        vertical-align: middle;\n",
              "    }\n",
              "\n",
              "    .dataframe tbody tr th {\n",
              "        vertical-align: top;\n",
              "    }\n",
              "\n",
              "    .dataframe thead th {\n",
              "        text-align: right;\n",
              "    }\n",
              "</style>\n",
              "<table border=\"1\" class=\"dataframe\">\n",
              "  <thead>\n",
              "    <tr style=\"text-align: right;\">\n",
              "      <th></th>\n",
              "      <th>gold value</th>\n",
              "      <th>crude oil value</th>\n",
              "      <th>Natural gas value</th>\n",
              "      <th>S&amp;P500 value</th>\n",
              "    </tr>\n",
              "  </thead>\n",
              "  <tbody>\n",
              "    <tr>\n",
              "      <th>count</th>\n",
              "      <td>2514.000000</td>\n",
              "      <td>2514.000000</td>\n",
              "      <td>2514.000000</td>\n",
              "      <td>2514.000000</td>\n",
              "    </tr>\n",
              "    <tr>\n",
              "      <th>mean</th>\n",
              "      <td>1432.092267</td>\n",
              "      <td>66.059444</td>\n",
              "      <td>3.233214</td>\n",
              "      <td>2629.116714</td>\n",
              "    </tr>\n",
              "    <tr>\n",
              "      <th>std</th>\n",
              "      <td>253.660278</td>\n",
              "      <td>22.779770</td>\n",
              "      <td>1.215478</td>\n",
              "      <td>873.343077</td>\n",
              "    </tr>\n",
              "    <tr>\n",
              "      <th>min</th>\n",
              "      <td>1049.600000</td>\n",
              "      <td>11.258000</td>\n",
              "      <td>1.330000</td>\n",
              "      <td>1337.890000</td>\n",
              "    </tr>\n",
              "    <tr>\n",
              "      <th>25%</th>\n",
              "      <td>1241.987500</td>\n",
              "      <td>48.490000</td>\n",
              "      <td>2.610000</td>\n",
              "      <td>1990.787500</td>\n",
              "    </tr>\n",
              "    <tr>\n",
              "      <th>50%</th>\n",
              "      <td>1316.025000</td>\n",
              "      <td>59.715000</td>\n",
              "      <td>2.950000</td>\n",
              "      <td>2438.635000</td>\n",
              "    </tr>\n",
              "    <tr>\n",
              "      <th>75%</th>\n",
              "      <td>1682.137500</td>\n",
              "      <td>88.275000</td>\n",
              "      <td>3.700000</td>\n",
              "      <td>3014.167500</td>\n",
              "    </tr>\n",
              "    <tr>\n",
              "      <th>max</th>\n",
              "      <td>2058.400000</td>\n",
              "      <td>123.700000</td>\n",
              "      <td>23.860000</td>\n",
              "      <td>4796.560000</td>\n",
              "    </tr>\n",
              "  </tbody>\n",
              "</table>\n",
              "</div>\n",
              "      <button class=\"colab-df-convert\" onclick=\"convertToInteractive('df-6b0d0b9d-7004-4582-b514-cb277f88f721')\"\n",
              "              title=\"Convert this dataframe to an interactive table.\"\n",
              "              style=\"display:none;\">\n",
              "        \n",
              "  <svg xmlns=\"http://www.w3.org/2000/svg\" height=\"24px\"viewBox=\"0 0 24 24\"\n",
              "       width=\"24px\">\n",
              "    <path d=\"M0 0h24v24H0V0z\" fill=\"none\"/>\n",
              "    <path d=\"M18.56 5.44l.94 2.06.94-2.06 2.06-.94-2.06-.94-.94-2.06-.94 2.06-2.06.94zm-11 1L8.5 8.5l.94-2.06 2.06-.94-2.06-.94L8.5 2.5l-.94 2.06-2.06.94zm10 10l.94 2.06.94-2.06 2.06-.94-2.06-.94-.94-2.06-.94 2.06-2.06.94z\"/><path d=\"M17.41 7.96l-1.37-1.37c-.4-.4-.92-.59-1.43-.59-.52 0-1.04.2-1.43.59L10.3 9.45l-7.72 7.72c-.78.78-.78 2.05 0 2.83L4 21.41c.39.39.9.59 1.41.59.51 0 1.02-.2 1.41-.59l7.78-7.78 2.81-2.81c.8-.78.8-2.07 0-2.86zM5.41 20L4 18.59l7.72-7.72 1.47 1.35L5.41 20z\"/>\n",
              "  </svg>\n",
              "      </button>\n",
              "      \n",
              "  <style>\n",
              "    .colab-df-container {\n",
              "      display:flex;\n",
              "      flex-wrap:wrap;\n",
              "      gap: 12px;\n",
              "    }\n",
              "\n",
              "    .colab-df-convert {\n",
              "      background-color: #E8F0FE;\n",
              "      border: none;\n",
              "      border-radius: 50%;\n",
              "      cursor: pointer;\n",
              "      display: none;\n",
              "      fill: #1967D2;\n",
              "      height: 32px;\n",
              "      padding: 0 0 0 0;\n",
              "      width: 32px;\n",
              "    }\n",
              "\n",
              "    .colab-df-convert:hover {\n",
              "      background-color: #E2EBFA;\n",
              "      box-shadow: 0px 1px 2px rgba(60, 64, 67, 0.3), 0px 1px 3px 1px rgba(60, 64, 67, 0.15);\n",
              "      fill: #174EA6;\n",
              "    }\n",
              "\n",
              "    [theme=dark] .colab-df-convert {\n",
              "      background-color: #3B4455;\n",
              "      fill: #D2E3FC;\n",
              "    }\n",
              "\n",
              "    [theme=dark] .colab-df-convert:hover {\n",
              "      background-color: #434B5C;\n",
              "      box-shadow: 0px 1px 3px 1px rgba(0, 0, 0, 0.15);\n",
              "      filter: drop-shadow(0px 1px 2px rgba(0, 0, 0, 0.3));\n",
              "      fill: #FFFFFF;\n",
              "    }\n",
              "  </style>\n",
              "\n",
              "      <script>\n",
              "        const buttonEl =\n",
              "          document.querySelector('#df-6b0d0b9d-7004-4582-b514-cb277f88f721 button.colab-df-convert');\n",
              "        buttonEl.style.display =\n",
              "          google.colab.kernel.accessAllowed ? 'block' : 'none';\n",
              "\n",
              "        async function convertToInteractive(key) {\n",
              "          const element = document.querySelector('#df-6b0d0b9d-7004-4582-b514-cb277f88f721');\n",
              "          const dataTable =\n",
              "            await google.colab.kernel.invokeFunction('convertToInteractive',\n",
              "                                                     [key], {});\n",
              "          if (!dataTable) return;\n",
              "\n",
              "          const docLinkHtml = 'Like what you see? Visit the ' +\n",
              "            '<a target=\"_blank\" href=https://colab.research.google.com/notebooks/data_table.ipynb>data table notebook</a>'\n",
              "            + ' to learn more about interactive tables.';\n",
              "          element.innerHTML = '';\n",
              "          dataTable['output_type'] = 'display_data';\n",
              "          await google.colab.output.renderOutput(dataTable, element);\n",
              "          const docLink = document.createElement('div');\n",
              "          docLink.innerHTML = docLinkHtml;\n",
              "          element.appendChild(docLink);\n",
              "        }\n",
              "      </script>\n",
              "    </div>\n",
              "  </div>\n",
              "  "
            ]
          },
          "metadata": {},
          "execution_count": 12
        }
      ]
    },
    {
      "cell_type": "code",
      "source": [
        "correlation = us_data.corr()"
      ],
      "metadata": {
        "id": "EvIpVQ7Qxw5M"
      },
      "execution_count": 13,
      "outputs": []
    },
    {
      "cell_type": "code",
      "source": [
        "plt.figure(figsize = (8,8))\n",
        "sns.heatmap(correlation, cbar=True, square=True, fmt='.1f',annot=True, annot_kws={'size':8}, cmap='Blues')"
      ],
      "metadata": {
        "colab": {
          "base_uri": "https://localhost:8080/",
          "height": 488
        },
        "id": "ui28fFuJx2KV",
        "outputId": "afd2a0e2-bc7c-4bf6-b2fa-6836a84ff6b3"
      },
      "execution_count": 14,
      "outputs": [
        {
          "output_type": "execute_result",
          "data": {
            "text/plain": [
              "<matplotlib.axes._subplots.AxesSubplot at 0x7f65a45efc50>"
            ]
          },
          "metadata": {},
          "execution_count": 14
        },
        {
          "output_type": "display_data",
          "data": {
            "text/plain": [
              "<Figure size 576x576 with 2 Axes>"
            ],
            "image/png": "[encoded data removed]"
          },
          "metadata": {
            "needs_background": "light"
          }
        }
      ]
    },
    {
      "cell_type": "code",
      "source": [
        "print(correlation['S&P500 value'])"
      ],
      "metadata": {
        "colab": {
          "base_uri": "https://localhost:8080/"
        },
        "id": "XsvlSuyBx63q",
        "outputId": "efec7c9f-e70f-4cb3-f962-71c7b7877ea0"
      },
      "execution_count": 25,
      "outputs": [
        {
          "output_type": "stream",
          "name": "stdout",
          "text": [
            "gold value           0.650779\n",
            " crude oil value    -0.086918\n",
            "Natural gas value    0.159963\n",
            "S&P500 value         1.000000\n",
            "Name: S&P500 value, dtype: float64\n"
          ]
        }
      ]
    },
    {
      "cell_type": "code",
      "source": [
        "X = us_data.drop(['date','S&P500 value'],axis=1)\n",
        "Y = us_data['S&P500 value']"
      ],
      "metadata": {
        "id": "QqUDAxtyyFfq"
      },
      "execution_count": 28,
      "outputs": []
    },
    {
      "cell_type": "code",
      "source": [
        "print(X)"
      ],
      "metadata": {
        "colab": {
          "base_uri": "https://localhost:8080/"
        },
        "id": "kx7A4r7dz-xT",
        "outputId": "dd761340-7d30-4023-84d8-68b2ff7b00d2"
      },
      "execution_count": 31,
      "outputs": [
        {
          "output_type": "stream",
          "name": "stdout",
          "text": [
            "      gold value   crude oil value  Natural gas value\n",
            "0        1573.00           88.2800               3.16\n",
            "1        1587.50           88.8000               3.19\n",
            "2        1603.00           89.4000               3.13\n",
            "3        1618.75           90.1300               3.10\n",
            "4        1616.50           89.8000               3.14\n",
            "...          ...               ...                ...\n",
            "2509     1847.26          101.0279               7.68\n",
            "2510     1848.70           98.2402               7.72\n",
            "2511     1871.40          102.4885               7.88\n",
            "2512     1850.20          104.7900               7.37\n",
            "2513     1843.70          104.7900               6.60\n",
            "\n",
            "[2514 rows x 3 columns]\n"
          ]
        }
      ]
    },
    {
      "cell_type": "code",
      "source": [
        "print(Y)"
      ],
      "metadata": {
        "colab": {
          "base_uri": "https://localhost:8080/"
        },
        "id": "m_KWBbY_0ORJ",
        "outputId": "20df2430-f9eb-4fb6-f6e9-6271ce755e93"
      },
      "execution_count": 30,
      "outputs": [
        {
          "output_type": "stream",
          "name": "stdout",
          "text": [
            "0       1338.31\n",
            "1       1337.89\n",
            "2       1360.02\n",
            "3       1385.97\n",
            "4       1385.30\n",
            "         ...   \n",
            "2509    3818.80\n",
            "2510    3801.78\n",
            "2511    3790.38\n",
            "2512    3863.16\n",
            "2513    3830.85\n",
            "Name: S&P500 value, Length: 2514, dtype: float64\n"
          ]
        }
      ]
    },
    {
      "cell_type": "code",
      "source": [
        "X_train, X_test, Y_train, Y_test = train_test_split(X, Y, test_size = 0.2, random_state=2)"
      ],
      "metadata": {
        "id": "SuqKGLTJ0QNS"
      },
      "execution_count": 32,
      "outputs": []
    },
    {
      "cell_type": "code",
      "source": [
        "regressor = RandomForestRegressor(n_estimators=100)"
      ],
      "metadata": {
        "id": "bnHRtp850Ysv"
      },
      "execution_count": 33,
      "outputs": []
    },
    {
      "cell_type": "code",
      "source": [
        "regressor.fit(X_train,Y_train)"
      ],
      "metadata": {
        "colab": {
          "base_uri": "https://localhost:8080/"
        },
        "id": "b8HSFh140bUs",
        "outputId": "a4d650b0-47ea-4fa7-f174-eba03e0f8c7a"
      },
      "execution_count": 34,
      "outputs": [
        {
          "output_type": "execute_result",
          "data": {
            "text/plain": [
              "RandomForestRegressor()"
            ]
          },
          "metadata": {},
          "execution_count": 34
        }
      ]
    },
    {
      "cell_type": "code",
      "source": [
        "test_data_prediction = regressor.predict(X_test)"
      ],
      "metadata": {
        "id": "mxJ3kbft0enf"
      },
      "execution_count": 35,
      "outputs": []
    },
    {
      "cell_type": "code",
      "source": [
        "print(test_data_prediction)"
      ],
      "metadata": {
        "colab": {
          "base_uri": "https://localhost:8080/"
        },
        "id": "PllcJ2e10kDy",
        "outputId": "a2542201-776a-4f17-d906-dc0bff85a157"
      },
      "execution_count": 36,
      "outputs": [
        {
          "output_type": "stream",
          "name": "stdout",
          "text": [
            "[2737.5477 3632.2344 2089.0023 2946.0858 2052.2778 1625.5317 3252.8406\n",
            " 4172.4292 1926.6077 2082.4354 1948.475  4639.8197 3036.2562 3098.6984\n",
            " 1423.9145 2269.0297 1940.3898 2131.2102 3480.0387 1503.7202 1461.4827\n",
            " 4739.9241 1415.8616 1948.144  4636.2335 2321.8175 2053.2224 1507.8975\n",
            " 3000.0332 2311.7313 3769.2467 4592.4319 1473.6598 1662.6427 2564.2696\n",
            " 1967.7506 2986.3173 2323.0166 4090.2901 3704.2492 2390.0002 2734.1747\n",
            " 2456.3448 2300.1422 2059.8264 1931.4814 3459.2984 1758.3275 1816.7069\n",
            " 2350.6593 4231.3774 2376.9469 2810.6235 2013.5374 2720.9526 2839.0537\n",
            " 3353.3779 1641.6979 4561.6964 1823.8607 2893.4799 4414.351  2289.9486\n",
            " 2710.1734 1970.6936 3965.0311 4438.7573 1935.5995 1627.9444 2786.0322\n",
            " 2182.6876 3967.887  2032.6008 3661.9225 2790.7806 2606.0871 4536.6433\n",
            " 2104.4786 1927.9389 2168.3235 4007.2145 1793.9054 2244.4358 1963.9229\n",
            " 2780.6052 3901.0122 1940.6578 1844.6684 4472.2426 2266.0504 1756.3232\n",
            " 2809.8684 1482.1494 1634.7745 2248.2766 2091.4231 1841.1303 3096.7629\n",
            " 2762.332  1444.6863 3133.7187 2364.0945 2378.729  2582.2358 2647.9283\n",
            " 1402.7082 3111.5759 4312.6698 4653.5608 2876.5925 2700.0302 2683.1119\n",
            " 2432.4513 3091.7559 2863.5541 2369.5735 2048.6205 2392.9002 2323.0019\n",
            " 2982.8117 1975.543  3239.612  1693.7491 2805.6536 2057.7599 4297.7447\n",
            " 1515.4263 3913.9277 2332.2168 2707.8316 4129.0163 2982.7424 1817.6864\n",
            " 2903.9741 2376.7915 4100.6202 2662.4366 3831.3192 1416.9803 2794.2426\n",
            " 4528.088  3234.6041 1420.2738 1655.462  2042.5228 1447.908  2187.5393\n",
            " 2345.369  2352.2744 2174.8695 2451.5468 2796.9573 3363.2096 2608.6462\n",
            " 2077.009  2088.5987 1668.0753 2020.9518 3394.4919 4579.0803 1410.6088\n",
            " 2205.5922 3236.0995 2096.1439 4412.5563 4350.8568 2825.6154 2214.4816\n",
            " 2623.0383 1691.9308 2251.1891 4204.8237 1945.3066 1986.3833 3027.6988\n",
            " 2167.2653 2816.1097 2696.616  2709.6797 1642.3148 1866.5776 3875.3025\n",
            " 2717.0381 1394.2382 4326.3853 3049.324  2586.0347 2044.6041 2399.4283\n",
            " 1838.7987 3250.7547 1413.8779 2306.7996 4201.9519 2775.1749 1878.174\n",
            " 4656.2268 2093.4602 4127.8025 2747.516  2330.4412 2416.5845 1931.5922\n",
            " 3324.8293 2229.7401 3009.0051 3748.0021 2789.5736 3879.3795 2065.2353\n",
            " 1411.4747 1859.2209 4587.9722 2393.6296 4506.0549 2070.5966 3701.8035\n",
            " 2276.4256 3117.3484 2971.46   3316.2435 2187.6872 1910.5706 4612.8942\n",
            " 3976.747  4435.1663 1902.4656 4318.5744 2157.2828 1628.6603 2133.9547\n",
            " 1760.6462 2499.2405 1412.0436 4500.2162 1938.9701 2095.5779 4008.3781\n",
            " 3961.2725 1957.3883 1447.0144 1509.0206 2608.1086 2408.8301 2067.2308\n",
            " 3827.0079 3126.7056 2612.3302 1410.6183 3685.3479 2064.9458 4093.5984\n",
            " 2675.5153 2265.0713 2790.5588 2008.0266 2014.0755 3801.5392 2092.7207\n",
            " 2589.0842 2892.7663 1424.4437 2131.331  2615.3876 2049.5775 2566.2768\n",
            " 2269.0595 2450.6915 1811.4413 1941.2377 2195.8958 1427.1988 2294.82\n",
            " 2095.4814 4470.6231 2370.0776 1724.4378 1656.4586 3291.7439 1882.7015\n",
            " 3915.1301 1406.9512 2651.251  1414.3772 2086.6609 2357.58   2805.3571\n",
            " 4479.2438 4558.6999 2826.0101 4030.2299 2484.0251 1844.1002 4453.8071\n",
            " 4489.6195 2088.9945 4434.5566 1447.5074 2648.5688 2226.5937 2276.0555\n",
            " 4515.5015 1835.6943 2642.3775 2523.1494 3116.9342 4617.6451 1510.5721\n",
            " 2821.5208 2826.5517 1628.0599 2574.8307 2055.8145 1965.7579 4474.9778\n",
            " 2673.2078 2066.0116 2940.3439 1963.3379 3027.4783 1630.3245 2169.7425\n",
            " 4348.8907 2982.6901 3078.5363 2082.7211 2320.9373 2864.082  2812.4792\n",
            " 3377.5396 3925.0292 2366.2816 1541.5214 4188.829  4492.2039 2490.7461\n",
            " 3204.7974 3034.9702 2792.0197 1565.2338 4177.7675 2339.185  2531.7997\n",
            " 4631.6843 3669.354  1751.7519 2039.2833 1800.7861 1688.4449 1988.2287\n",
            " 1631.9783 2329.2694 4427.7907 4483.7375 1833.8799 3760.7213 1698.841\n",
            " 2744.9874 2078.9757 3068.6098 3204.336  2015.0609 2821.1588 2671.0416\n",
            " 4446.305  1747.9838 2719.2059 1686.8581 4349.0963 2136.921  2300.8343\n",
            " 2835.2143 4240.626  2100.4638 2269.6215 2228.4497 2975.7081 3920.376\n",
            " 2858.4294 1656.1276 4356.1202 3749.6676 2556.4072 3666.5363 2463.74\n",
            " 2961.6405 1940.8244 2788.8233 2797.1787 3992.0933 2155.4421 3198.9163\n",
            " 2209.2127 2736.9859 4641.5798 2747.5161 2827.6788 3256.7818 4447.1477\n",
            " 3187.3713 2529.7067 1985.3203 4491.9148 2693.4891 3326.8052 4232.2981\n",
            " 2075.1976 2870.8954 2698.3901 2805.8824 3455.6286 1790.6006 3593.5117\n",
            " 3692.8929 1687.202  2902.0653 2100.2947 2701.5508 2758.4541 2661.6615\n",
            " 2733.4547 2993.2527 2056.363  1746.5856 4425.1534 1392.745  1698.0673\n",
            " 3866.3903 3924.037  3090.152  2793.7224 4164.8341 2357.9944 2279.3072\n",
            " 1945.0412 3918.4509 2121.4734 2822.4962 1779.439  1497.8572 2576.8834\n",
            " 2008.1321 1623.5038 2391.1747 3212.7517 2197.9707 2099.8573 2173.2602\n",
            " 2295.9047 4446.2439 2904.0487 2281.7048 3632.2335 3766.6088 2079.8314\n",
            " 3960.041  3421.3208 2968.8812 2157.743  4479.4435 2662.5099 2748.165\n",
            " 2183.3098 1438.6803 2381.1962 1961.5062 1876.8297 3920.8376 1779.829\n",
            " 3790.5791 2905.5511 2288.3499 2289.5087 1398.7967 4546.8891 2147.0336\n",
            " 2182.3096 1923.1329 3452.6708 2771.5756 2543.8804 2831.6114 2143.871\n",
            " 2066.2434 2439.0749 2219.4636 2718.2551 1690.3793 2404.4995 4490.2062\n",
            " 4252.8165 1917.4747 2288.0286 1552.4724 2374.4014 2999.0711 2806.9825\n",
            " 3931.7264 1966.4776 2828.3351 1915.2175 2203.5314 3422.6123]\n"
          ]
        }
      ]
    },
    {
      "cell_type": "code",
      "source": [
        "error_score = metrics.r2_score(Y_test, test_data_prediction)\n",
        "print(\"R squared error : \", error_score)"
      ],
      "metadata": {
        "colab": {
          "base_uri": "https://localhost:8080/"
        },
        "id": "pzWLSHqB0oHz",
        "outputId": "ab2781b2-3d5b-4d4c-d438-cd1f930388f9"
      },
      "execution_count": 37,
      "outputs": [
        {
          "output_type": "stream",
          "name": "stdout",
          "text": [
            "R squared error :  0.9851265606307911\n"
          ]
        }
      ]
    },
    {
      "cell_type": "code",
      "source": [
        "Y_test = list(Y_test)"
      ],
      "metadata": {
        "id": "IF8RwcxG0tD7"
      },
      "execution_count": 38,
      "outputs": []
    },
    {
      "cell_type": "code",
      "source": [
        "plt.plot(Y_test, color='blue', label = 'Actual Value')\n",
        "plt.plot(test_data_prediction, color='green', label='Predicted Value')\n",
        "plt.title('Actual Price vs Predicted Price')\n",
        "plt.xlabel('Number of values')\n",
        "plt.ylabel('S&P500 value')\n",
        "plt.legend()\n",
        "plt.show()"
      ],
      "metadata": {
        "colab": {
          "base_uri": "https://localhost:8080/",
          "height": 295
        },
        "id": "ovofcdHe0zHr",
        "outputId": "8e68bd7c-afdc-4df3-cef0-97c96c5c3ec5"
      },
      "execution_count": 39,
      "outputs": [
        {
          "output_type": "display_data",
          "data": {
            "text/plain": [
              "<Figure size 432x288 with 1 Axes>"
            ],
            "image/png": "[encoded data removed]"
          },
          "metadata": {
            "needs_background": "light"
          }
        }
      ]
    },
    {
      "cell_type": "code",
      "source": [
        ""
      ],
      "metadata": {
        "id": "AgW2R7wW1GzX"
      },
      "execution_count": null,
      "outputs": []
    }
  ]
}